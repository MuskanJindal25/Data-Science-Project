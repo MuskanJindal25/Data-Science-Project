{
 "cells": [
  {
   "cell_type": "code",
   "execution_count": null,
   "id": "ea9b3053-9cf0-4dd4-9ef6-7a79d6a347bd",
   "metadata": {},
   "outputs": [],
   "source": [
    "import pandas as pd\n",
    "import numpy as np"
   ]
  },
  {
   "cell_type": "code",
   "execution_count": null,
   "id": "24335a09-a014-428c-9c66-15cb600f63e4",
   "metadata": {},
   "outputs": [],
   "source": [
    "data_pa = pd.read_csv('/Users/muskanj/Documents/CS_TDS_506/fy2025-property_assessment.csv')\n",
    "data_pa.head(n = 10)"
   ]
  },
  {
   "cell_type": "code",
   "execution_count": null,
   "id": "53e20ce9-c256-4941-9a5d-071bfc53a062",
   "metadata": {},
   "outputs": [],
   "source": [
    "pd.set_option('display.max_columns', None)\n",
    "print(data_pa.head())"
   ]
  },
  {
   "cell_type": "code",
   "execution_count": null,
   "id": "b49b84d1-c694-49c1-b6d0-aa70f3c03ae7",
   "metadata": {},
   "outputs": [],
   "source": [
    "data_pa.info()"
   ]
  },
  {
   "cell_type": "code",
   "execution_count": null,
   "id": "a10be20c-425e-4a23-b483-b927a59ca062",
   "metadata": {},
   "outputs": [],
   "source": [
    "mostly_nan = data_pa.isnull().mean()\n",
    "print(mostly_nan[mostly_nan > 0.5])"
   ]
  },
  {
   "cell_type": "code",
   "execution_count": null,
   "id": "66040f0d-9852-4fd5-bc2d-eb68c8c0d30d",
   "metadata": {},
   "outputs": [],
   "source": [
    "# Removed the columns with NaN values greater than ~80%\n",
    "\n",
    "# cols_to_drop = [\n",
    "#     'ST_NUM2', 'MAIL_ADDRESSEE', 'RES_UNITS', 'COM_UNITS', \n",
    "#     'RC_UNITS', 'STRUCTURE_CLASS', 'KITCHEN_STYLE2', 'KITCHEN_STYLE3', 'BTHRM_STYLE3'\n",
    "# ]\n",
    "\n",
    "# data_pa = data_pa.drop(columns=cols_to_drop)"
   ]
  }
 ],
 "metadata": {
  "kernelspec": {
   "display_name": "Python 3 (ipykernel)",
   "language": "python",
   "name": "python3"
  },
  "language_info": {
   "codemirror_mode": {
    "name": "ipython",
    "version": 3
   },
   "file_extension": ".py",
   "mimetype": "text/x-python",
   "name": "python",
   "nbconvert_exporter": "python",
   "pygments_lexer": "ipython3",
   "version": "3.12.4"
  }
 },
 "nbformat": 4,
 "nbformat_minor": 5
}
